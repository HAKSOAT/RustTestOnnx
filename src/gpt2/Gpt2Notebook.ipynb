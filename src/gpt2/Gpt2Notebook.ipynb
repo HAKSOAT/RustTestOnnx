{
 "cells": [
  {
   "cell_type": "code",
   "execution_count": 2,
   "id": "bec4158e-1d3a-40ab-b9ca-0eeaa27af924",
   "metadata": {},
   "outputs": [],
   "source": [
    ":dep ort = { features = [ \"download-binaries\", \"fetch-models\"] }\n",
    ":dep ndarray = \"0.15\"\n",
    ":dep tokenizers = { version = \">=0.13.4\", default-features = false, features = [ \"onig\" ] }\n",
    ":dep rand = \"0.8\"\n",
    ":dep tracing-subscriber = { version = \"0.3\", default-features = false, features = [ \"env-filter\", \"fmt\" ] }"
   ]
  },
  {
   "cell_type": "code",
   "execution_count": 3,
   "id": "8678ee74-678f-490a-b685-5ec3541d05a9",
   "metadata": {},
   "outputs": [],
   "source": [
    ":dep tracing"
   ]
  },
  {
   "cell_type": "code",
   "execution_count": 4,
   "id": "d0f26b14-7d4a-4537-94c7-91f8f7c69fac",
   "metadata": {},
   "outputs": [],
   "source": [
    "use std::{io::{self, Write}, path::Path};\n",
    "use ndarray::{array, concatenate, s, Array1, ArrayViewD, Axis};\n",
    "use tokenizers::Tokenizer;\n",
    "use ort::{inputs, GraphOptimizationLevel, Session};\n",
    "use rand::Rng;\n",
    "use tracing_subscriber::fmt as trace_fmt;\n",
    "use tracing::{info, warn};"
   ]
  },
  {
   "cell_type": "code",
   "execution_count": 5,
   "id": "ecbd9103-41bd-49d2-81d9-598dbf5f0f46",
   "metadata": {},
   "outputs": [],
   "source": [
    "// env!(\"RUSTFLAGS\", \"-Clink-arg=-fapple-link-rtlib\")"
   ]
  },
  {
   "cell_type": "code",
   "execution_count": 6,
   "id": "0ddf046c-32ce-4e58-8afc-fb65569c12e5",
   "metadata": {},
   "outputs": [
    {
     "data": {
      "text/plain": [
       "\"-Cprefer-dynamic\""
      ]
     },
     "execution_count": 6,
     "metadata": {},
     "output_type": "execute_result"
    }
   ],
   "source": [
    "env!(\"RUSTFLAGS\")"
   ]
  },
  {
   "cell_type": "code",
   "execution_count": 7,
   "id": "60af3bbf-2231-49da-94c2-1eec214d84e0",
   "metadata": {},
   "outputs": [],
   "source": [
    "const PROMPT: &str = \"The corsac fox (Vulpes corsac), also known simply as a corsac, is a medium-sized fox found in\";\n",
    "\n",
    "const GEN_TOKENS: i32 = 90;\n",
    "\n",
    "const TOP_K: usize = 5;"
   ]
  },
  {
   "cell_type": "code",
   "execution_count": 8,
   "id": "daa4dab3-cdc6-4c07-a85f-f3a33eb0a6c3",
   "metadata": {},
   "outputs": [],
   "source": [
    "fn print_type_of<T>(_: &T) {\n",
    "    println!(\"{}\", std::any::type_name::<T>())\n",
    "}"
   ]
  },
  {
   "cell_type": "code",
   "execution_count": 9,
   "id": "abb8e69c-43b9-4bea-a3f0-0996cd303ddb",
   "metadata": {},
   "outputs": [],
   "source": [
    "trace_fmt::init();"
   ]
  },
  {
   "cell_type": "code",
   "execution_count": 10,
   "id": "d5b0fe9d-67ac-4975-bf59-692d1a590ede",
   "metadata": {},
   "outputs": [],
   "source": [
    "ort::init().with_name(\"GPT-2\").with_execution_providers([]).commit()?;"
   ]
  },
  {
   "cell_type": "code",
   "execution_count": 11,
   "id": "cf129bc8-effb-4b48-a99d-6104bad8de78",
   "metadata": {},
   "outputs": [],
   "source": [
    "let mut stdout = io::stdout();\n",
    "let mut rng = rand::thread_rng();"
   ]
  },
  {
   "cell_type": "code",
   "execution_count": 12,
   "id": "5ed3ef64-f05a-4194-ac4a-189af832dbbf",
   "metadata": {},
   "outputs": [],
   "source": [
    "let session = Session::builder()?.\n",
    "    with_optimization_level(GraphOptimizationLevel::Level1)?.\n",
    "    with_intra_threads(1)?.\n",
    "    commit_from_url(\"https://parcel.pyke.io/v2/cdn/assetdelivery/ortrsv2/ex_models/gpt2.onnx\")?;"
   ]
  },
  {
   "cell_type": "code",
   "execution_count": 13,
   "id": "2f6bb169-8a51-4c7d-a535-74009ae4d38a",
   "metadata": {},
   "outputs": [],
   "source": [
    "const PROJ_DIR: &str = \"/Users/haks/Documents/dev/testonnx/gpt2\";"
   ]
  },
  {
   "cell_type": "code",
   "execution_count": 14,
   "id": "ef1bba65-7e57-4ef3-b509-5cc8c53c3da0",
   "metadata": {},
   "outputs": [],
   "source": [
    "let tokenizer = Tokenizer::from_file(Path::new(PROJ_DIR).join(\"data\").join(\"tokenizer.json\")).unwrap();"
   ]
  },
  {
   "cell_type": "code",
   "execution_count": 22,
   "id": "7a84ae9d-3681-4e81-a0bc-2b6aeffa5bb6",
   "metadata": {},
   "outputs": [],
   "source": [
    "let tokenizer = Tokenizer::from_file(Path::new(PROJ_DIR).join(\"data\").join(\"tokenizer.json\")).unwrap();\n",
    "let tokens = tokenizer.encode(PROMPT, false).unwrap();\n",
    "let tokens = tokens.get_ids().iter().map(|i| *i as i64).collect::<Vec<_>>();\n",
    "\n",
    "let mut tokens = Array1::from_iter(tokens.iter().cloned());"
   ]
  },
  {
   "cell_type": "code",
   "execution_count": 33,
   "id": "5774876c-0e2a-4181-aaed-633dc9a1026d",
   "metadata": {},
   "outputs": [],
   "source": [
    "stdout.flush().unwrap();"
   ]
  },
  {
   "cell_type": "code",
   "execution_count": 57,
   "id": "9522b416-ba53-49a8-9ff4-d14ba9da9058",
   "metadata": {},
   "outputs": [],
   "source": [
    "let generated_tokens: Option<ArrayViewD<f32>> = None;"
   ]
  },
  {
   "cell_type": "code",
   "execution_count": 25,
   "id": "b33b8ed4-b142-4ea7-bcb0-bba96c964fcb",
   "metadata": {},
   "outputs": [
    {
     "name": "stderr",
     "output_type": "stream",
     "text": [
      "Failed to run inference on model: Invalid input name: input1\n"
     ]
    }
   ],
   "source": [
    "\tfor _ in 0..GEN_TOKENS {\n",
    "\t\tlet array = tokens.view().insert_axis(Axis(0)).insert_axis(Axis(1));\n",
    "\t\tlet outputs = session.run(inputs![array]?)?;\n",
    "\t\tlet generated_tokens: ArrayViewD<f32> = outputs[\"output1\"].try_extract_tensor()?;\n",
    "    }"
   ]
  },
  {
   "cell_type": "code",
   "execution_count": 19,
   "id": "eab3b95e-ff21-445c-bc8c-20989028a9b8",
   "metadata": {},
   "outputs": [
    {
     "ename": "Error",
     "evalue": "`ModelMetadata<'_>` doesn't implement `Debug`",
     "output_type": "error",
     "traceback": [
      "\u001b[31m[E0277] Error:\u001b[0m `ModelMetadata<'_>` doesn't implement `Debug`",
      "   \u001b[38;5;246m╭\u001b[0m\u001b[38;5;246m─\u001b[0m\u001b[38;5;246m[\u001b[0mcommand_19:1:1\u001b[38;5;246m]\u001b[0m",
      "   \u001b[38;5;246m│\u001b[0m",
      " \u001b[38;5;246m1 │\u001b[0m \u001b[38;5;54md\u001b[0m\u001b[38;5;54mb\u001b[0m\u001b[38;5;54mg\u001b[0m\u001b[38;5;54m!\u001b[0m\u001b[38;5;54m(\u001b[0m\u001b[38;5;54ms\u001b[0m\u001b[38;5;54me\u001b[0m\u001b[38;5;54ms\u001b[0m\u001b[38;5;54ms\u001b[0m\u001b[38;5;54mi\u001b[0m\u001b[38;5;54mo\u001b[0m\u001b[38;5;54mn\u001b[0m\u001b[38;5;54m.\u001b[0m\u001b[38;5;54mm\u001b[0m\u001b[38;5;54me\u001b[0m\u001b[38;5;54mt\u001b[0m\u001b[38;5;54ma\u001b[0m\u001b[38;5;54md\u001b[0m\u001b[38;5;54ma\u001b[0m\u001b[38;5;54mt\u001b[0m\u001b[38;5;54ma\u001b[0m\u001b[38;5;54m(\u001b[0m\u001b[38;5;54m)\u001b[0m\u001b[38;5;54m)\u001b[0m",
      " \u001b[38;5;240m  │\u001b[0m \u001b[38;5;54m─\u001b[0m\u001b[38;5;54m─\u001b[0m\u001b[38;5;54m─\u001b[0m\u001b[38;5;54m─\u001b[0m\u001b[38;5;54m─\u001b[0m\u001b[38;5;54m─\u001b[0m\u001b[38;5;54m─\u001b[0m\u001b[38;5;54m─\u001b[0m\u001b[38;5;54m─\u001b[0m\u001b[38;5;54m─\u001b[0m\u001b[38;5;54m─\u001b[0m\u001b[38;5;54m─\u001b[0m\u001b[38;5;54m┬\u001b[0m\u001b[38;5;54m─\u001b[0m\u001b[38;5;54m─\u001b[0m\u001b[38;5;54m─\u001b[0m\u001b[38;5;54m─\u001b[0m\u001b[38;5;54m─\u001b[0m\u001b[38;5;54m─\u001b[0m\u001b[38;5;54m─\u001b[0m\u001b[38;5;54m─\u001b[0m\u001b[38;5;54m─\u001b[0m\u001b[38;5;54m─\u001b[0m\u001b[38;5;54m─\u001b[0m  ",
      " \u001b[38;5;240m  │\u001b[0m             \u001b[38;5;54m╰\u001b[0m\u001b[38;5;54m─\u001b[0m\u001b[38;5;54m─\u001b[0m\u001b[38;5;54m─\u001b[0m\u001b[38;5;54m─\u001b[0m\u001b[38;5;54m─\u001b[0m\u001b[38;5;54m─\u001b[0m\u001b[38;5;54m─\u001b[0m\u001b[38;5;54m─\u001b[0m\u001b[38;5;54m─\u001b[0m\u001b[38;5;54m─\u001b[0m\u001b[38;5;54m─\u001b[0m\u001b[38;5;54m─\u001b[0m\u001b[38;5;54m─\u001b[0m `ModelMetadata<'_>` cannot be formatted using `{:?}` because it doesn't implement `Debug`",
      "\u001b[38;5;246m───╯\u001b[0m"
     ]
    },
    {
     "ename": "Error",
     "evalue": "`ModelMetadata<'_>` doesn't implement `Debug`",
     "output_type": "error",
     "traceback": [
      "\u001b[31m[E0277] Error:\u001b[0m `ModelMetadata<'_>` doesn't implement `Debug`"
     ]
    }
   ],
   "source": []
  },
  {
   "cell_type": "code",
   "execution_count": 42,
   "id": "e7b90587-76f2-44f7-a2f3-deff3256a523",
   "metadata": {},
   "outputs": [
    {
     "name": "stdout",
     "output_type": "stream",
     "text": [
      "ndarray::ArrayBase<ndarray::ViewRepr<&i64>, ndarray::dimension::dim::Dim<[usize; 2]>>\n"
     ]
    }
   ],
   "source": [
    "print_type_of(&(tokens.view().insert_axis(Axis(0)).insert_axis(Axis(0));"
   ]
  },
  {
   "cell_type": "code",
   "execution_count": 45,
   "id": "dc417207-72f4-45e6-b7ff-c3b3655ad430",
   "metadata": {},
   "outputs": [
    {
     "data": {
      "text/plain": [
       "[[[464, 269, 669, 330, 21831, 357, 53, 377, 12272, 269, 669, 330, 828, 635, 1900, 2391, 355, 257, 269, 669, 330, 11, 318, 257, 7090, 12, 13982, 21831, 1043, 287]]], shape=[1, 1, 30], strides=[1, 1, 1], layout=CFcf (0xf), const ndim=3"
      ]
     },
     "execution_count": 45,
     "metadata": {},
     "output_type": "execute_result"
    }
   ],
   "source": [
    "tokens.view().insert_axis(Axis(0)).insert_axis(Axis(0))"
   ]
  },
  {
   "cell_type": "code",
   "execution_count": 35,
   "id": "ea41c500-eb78-4aa1-9b9a-a5cb5a82af3a",
   "metadata": {},
   "outputs": [
    {
     "data": {
      "text/plain": [
       "[464, 269, 669, 330, 21831, 357, 53, 377, 12272, 269, 669, 330, 828, 635, 1900, 2391, 355, 257, 269, 669, 330, 11, 318, 257, 7090, 12, 13982, 21831, 1043, 287], shape=[30], strides=[1], layout=CFcf (0xf), const ndim=1"
      ]
     },
     "execution_count": 35,
     "metadata": {},
     "output_type": "execute_result"
    }
   ],
   "source": [
    "tokens.view()"
   ]
  },
  {
   "cell_type": "code",
   "execution_count": 32,
   "id": "e5cd6729-3292-4eaf-865a-c153c7ea0957",
   "metadata": {},
   "outputs": [],
   "source": [
    "tracing_subscriber::fmt::init();\n",
    "\n",
    "// Create the ONNX Runtime environment, enabling CUDA execution providers for all sessions created in this process.\n",
    "ort::init().with_name(\"GPT-2\").with_execution_providers([]).commit()?;"
   ]
  },
  {
   "cell_type": "code",
   "execution_count": 33,
   "id": "64e061bf-d4e9-4e65-b9db-a5aac4b2a77f",
   "metadata": {},
   "outputs": [],
   "source": [
    "let mut stdout = io::stdout();\n",
    "let mut rng = rand::thread_rng();\n",
    "\n",
    "// Load our model\n",
    "let session = Session::builder()?\n",
    "    .with_optimization_level(GraphOptimizationLevel::Level1)?\n",
    "    .with_intra_threads(1)?\n",
    "    .commit_from_url(\"https://parcel.pyke.io/v2/cdn/assetdelivery/ortrsv2/ex_models/gpt2.onnx\")?;"
   ]
  },
  {
   "cell_type": "code",
   "execution_count": 34,
   "id": "5fce0288-3613-45d0-bb89-38774f9df195",
   "metadata": {},
   "outputs": [],
   "source": [
    "// Load the tokenizer and encode the prompt into a sequence of tokens.\n",
    "let tokenizer = Tokenizer::from_file(Path::new(PROJ_DIR).join(\"data\").join(\"tokenizer.json\")).unwrap();\n",
    "let tokens = tokenizer.encode(PROMPT, false).unwrap();\n",
    "let tokens = tokens.get_ids().iter().map(|i| *i as i64).collect::<Vec<_>>();\n",
    "\n",
    "let mut tokens = Array1::from_iter(tokens.iter().cloned());\n",
    "\n",
    "// print!(\"{PROMPT}\");\n",
    "// stdout.flush().unwrap();"
   ]
  },
  {
   "cell_type": "code",
   "execution_count": 43,
   "id": "e019e50b-61a5-491a-974a-a73617c08737",
   "metadata": {},
   "outputs": [
    {
     "data": {
      "text/plain": [
       "[[[464, 269, 669, 330, 21831, 357, 53, 377, 12272, 269, 669, 330, 828, 635, 1900, 2391, 355, 257, 269, 669, 330, 11, 318, 257, 7090, 12, 13982, 21831, 1043, 287]]], shape=[1, 1, 30], strides=[1, 1, 1], layout=CFcf (0xf), const ndim=3"
      ]
     },
     "execution_count": 43,
     "metadata": {},
     "output_type": "execute_result"
    }
   ],
   "source": [
    "tokens.view().insert_axis(Axis(0)).insert_axis(Axis(1))"
   ]
  },
  {
   "cell_type": "code",
   "execution_count": 38,
   "id": "73cfcd0c-9d2c-4146-9215-fe3b018fbc46",
   "metadata": {},
   "outputs": [
    {
     "ename": "Error",
     "evalue": "the trait bound `SessionInputs<'_, '_, _>: From<Result<[SessionInputValue<'_>; 1], ort::Error>>` is not satisfied",
     "output_type": "error",
     "traceback": [
      "\u001b[31m[E0277] Error:\u001b[0m the trait bound `SessionInputs<'_, '_, _>: From<Result<[SessionInputValue<'_>; 1], ort::Error>>` is not satisfied",
      "   \u001b[38;5;246m╭\u001b[0m\u001b[38;5;246m─\u001b[0m\u001b[38;5;246m[\u001b[0mcommand_38:1:1\u001b[38;5;246m]\u001b[0m",
      "   \u001b[38;5;246m│\u001b[0m",
      " \u001b[38;5;246m4 │\u001b[0m \u001b[38;5;249m \u001b[0m\u001b[38;5;249m \u001b[0m\u001b[38;5;249m \u001b[0m\u001b[38;5;249m \u001b[0m\u001b[38;5;249m \u001b[0m\u001b[38;5;249m \u001b[0m\u001b[38;5;249m \u001b[0m\u001b[38;5;249ml\u001b[0m\u001b[38;5;249me\u001b[0m\u001b[38;5;249mt\u001b[0m\u001b[38;5;249m \u001b[0m\u001b[38;5;249mo\u001b[0m\u001b[38;5;249mu\u001b[0m\u001b[38;5;249mt\u001b[0m\u001b[38;5;249mp\u001b[0m\u001b[38;5;249mu\u001b[0m\u001b[38;5;249mt\u001b[0m\u001b[38;5;249ms\u001b[0m\u001b[38;5;249m \u001b[0m\u001b[38;5;249m=\u001b[0m\u001b[38;5;249m \u001b[0m\u001b[38;5;249ms\u001b[0m\u001b[38;5;249me\u001b[0m\u001b[38;5;249ms\u001b[0m\u001b[38;5;249ms\u001b[0m\u001b[38;5;249mi\u001b[0m\u001b[38;5;249mo\u001b[0m\u001b[38;5;249mn\u001b[0m\u001b[38;5;249m.\u001b[0m\u001b[38;5;100mr\u001b[0m\u001b[38;5;100mu\u001b[0m\u001b[38;5;100mn\u001b[0m\u001b[38;5;249m(\u001b[0m\u001b[38;5;54mi\u001b[0m\u001b[38;5;54mn\u001b[0m\u001b[38;5;54mp\u001b[0m\u001b[38;5;54mu\u001b[0m\u001b[38;5;54mt\u001b[0m\u001b[38;5;54ms\u001b[0m\u001b[38;5;54m!\u001b[0m\u001b[38;5;54m[\u001b[0m\u001b[38;5;54ma\u001b[0m\u001b[38;5;54mr\u001b[0m\u001b[38;5;54mr\u001b[0m\u001b[38;5;54ma\u001b[0m\u001b[38;5;54my\u001b[0m\u001b[38;5;54m]\u001b[0m\u001b[38;5;249m)\u001b[0m\u001b[38;5;249m?\u001b[0m\u001b[38;5;249m;\u001b[0m",
      " \u001b[38;5;240m  │\u001b[0m                              \u001b[38;5;100m─\u001b[0m\u001b[38;5;100m┬\u001b[0m\u001b[38;5;100m─\u001b[0m \u001b[38;5;54m─\u001b[0m\u001b[38;5;54m─\u001b[0m\u001b[38;5;54m─\u001b[0m\u001b[38;5;54m─\u001b[0m\u001b[38;5;54m─\u001b[0m\u001b[38;5;54m─\u001b[0m\u001b[38;5;54m─\u001b[0m\u001b[38;5;54m┬\u001b[0m\u001b[38;5;54m─\u001b[0m\u001b[38;5;54m─\u001b[0m\u001b[38;5;54m─\u001b[0m\u001b[38;5;54m─\u001b[0m\u001b[38;5;54m─\u001b[0m\u001b[38;5;54m─\u001b[0m  ",
      " \u001b[38;5;240m  │\u001b[0m                               \u001b[38;5;100m╰\u001b[0m\u001b[38;5;100m─\u001b[0m\u001b[38;5;100m─\u001b[0m\u001b[38;5;100m─\u001b[0m\u001b[38;5;100m─\u001b[0m\u001b[38;5;100m─\u001b[0m\u001b[38;5;100m─\u001b[0m\u001b[38;5;100m─\u001b[0m\u001b[38;5;100m─\u001b[0m\u001b[38;5;100m─\u001b[0m\u001b[38;5;100m─\u001b[0m\u001b[38;5;100m─\u001b[0m\u001b[38;5;100m─\u001b[0m\u001b[38;5;100m─\u001b[0m\u001b[38;5;100m─\u001b[0m\u001b[38;5;100m─\u001b[0m\u001b[38;5;100m─\u001b[0m\u001b[38;5;100m─\u001b[0m\u001b[38;5;100m─\u001b[0m required by a bound introduced by this call",
      " \u001b[38;5;240m  │\u001b[0m                                         \u001b[38;5;54m│\u001b[0m        ",
      " \u001b[38;5;240m  │\u001b[0m                                         \u001b[38;5;54m╰\u001b[0m\u001b[38;5;54m─\u001b[0m\u001b[38;5;54m─\u001b[0m\u001b[38;5;54m─\u001b[0m\u001b[38;5;54m─\u001b[0m\u001b[38;5;54m─\u001b[0m\u001b[38;5;54m─\u001b[0m\u001b[38;5;54m─\u001b[0m\u001b[38;5;54m─\u001b[0m the trait `From<Result<[SessionInputValue<'_>; 1], ort::Error>>` is not implemented for `SessionInputs<'_, '_, _>`, which is required by `Result<[SessionInputValue<'_>; 1], ort::Error>: Into<SessionInputs<'_, '_, _>>`",
      " \u001b[38;5;240m  │\u001b[0m ",
      " \u001b[38;5;240m  │\u001b[0m \u001b[38;5;115mNote\u001b[0m: required by this bound in `Session::run`",
      "\u001b[38;5;246m───╯\u001b[0m"
     ]
    }
   ],
   "source": [
    "{\n",
    "for _ in 0..GEN_TOKENS {\n",
    "\t\tlet array = tokens.view().insert_axis(Axis(0)).insert_axis(Axis(1));\n",
    "\t\tlet outputs = session.run(inputs![array])?;\n",
    "\t\t// let generated_tokens: ArrayViewD<f32> = outputs[\"output1\"].try_extract_tensor()?;\n",
    "}\n",
    "}"
   ]
  },
  {
   "cell_type": "code",
   "execution_count": 26,
   "id": "b3ac3846-fa2d-4228-bd70-b53e6030d94b",
   "metadata": {},
   "outputs": [
    {
     "data": {
      "text/plain": [
       "()"
      ]
     },
     "execution_count": 26,
     "metadata": {},
     "output_type": "execute_result"
    }
   ],
   "source": [
    "{\n",
    "\n",
    "\n",
    "\n",
    "\n",
    "\t\n",
    "\n",
    "\tfor _ in 0..GEN_TOKENS {\n",
    "\t\tlet array = tokens.view().insert_axis(Axis(0)).insert_axis(Axis(1));\n",
    "\t\tlet outputs = session.run(inputs![array]?)?;\n",
    "\t\tlet generated_tokens: ArrayViewD<f32> = outputs[\"output1\"].try_extract_tensor()?;}\n",
    "}"
   ]
  },
  {
   "cell_type": "code",
   "execution_count": 20,
   "id": "900ed5ab-f99f-4a6f-aed6-817b56d8b4a6",
   "metadata": {},
   "outputs": [],
   "source": [
    "fn main() -> ort::Result<()> {\n",
    "\t// Initialize tracing to receive debug messages from `ort`\n",
    "\ttracing_subscriber::fmt::init();\n",
    "\n",
    "\t// Create the ONNX Runtime environment, enabling CUDA execution providers for all sessions created in this process.\n",
    "\tort::init().with_name(\"GPT-2\").with_execution_providers([]).commit()?;\n",
    "\n",
    "\tlet mut stdout = io::stdout();\n",
    "\tlet mut rng = rand::thread_rng();\n",
    "\n",
    "\t// Load our model\n",
    "\tlet session = Session::builder()?\n",
    "\t\t.with_optimization_level(GraphOptimizationLevel::Level1)?\n",
    "\t\t.with_intra_threads(1)?\n",
    "\t\t.commit_from_url(\"https://parcel.pyke.io/v2/cdn/assetdelivery/ortrsv2/ex_models/gpt2.onnx\")?;\n",
    "\n",
    "\t// Load the tokenizer and encode the prompt into a sequence of tokens.\n",
    "\tlet tokenizer = Tokenizer::from_file(Path::new(PROJ_DIR).join(\"data\").join(\"tokenizer.json\")).unwrap();\n",
    "\tlet tokens = tokenizer.encode(PROMPT, false).unwrap();\n",
    "\tlet tokens = tokens.get_ids().iter().map(|i| *i as i64).collect::<Vec<_>>();\n",
    "\n",
    "\tlet mut tokens = Array1::from_iter(tokens.iter().cloned());\n",
    "\n",
    "\tprint!(\"{PROMPT}\");\n",
    "\tstdout.flush().unwrap();\n",
    "\n",
    "\tfor _ in 0..GEN_TOKENS {\n",
    "\t\tlet array = tokens.view().insert_axis(Axis(0)).insert_axis(Axis(1));\n",
    "\t\tlet outputs = session.run(inputs![array]?)?;\n",
    "\t\tlet generated_tokens: ArrayViewD<f32> = outputs[\"output1\"].try_extract_tensor()?;\n",
    "\n",
    "\t\t// Collect and sort logits\n",
    "\t\tlet probabilities = &mut generated_tokens\n",
    "\t\t\t.slice(s![0, 0, -1, ..])\n",
    "\t\t\t.insert_axis(Axis(0))\n",
    "\t\t\t.to_owned()\n",
    "\t\t\t.iter()\n",
    "\t\t\t.cloned()\n",
    "\t\t\t.enumerate()\n",
    "\t\t\t.collect::<Vec<_>>();\n",
    "\t\tprobabilities.sort_unstable_by(|a, b| b.1.partial_cmp(&a.1).unwrap_or(std::cmp::Ordering::Less));\n",
    "\n",
    "\t\t// Sample using top-k sampling\n",
    "\t\tlet token = probabilities[rng.gen_range(0..=TOP_K)].0;\n",
    "\t\ttokens = concatenate![Axis(0), tokens, array![token.try_into().unwrap()]];\n",
    "\n",
    "\t\tlet token_str = tokenizer.decode(&[token as _], true).unwrap();\n",
    "\t\tprint!(\"{}\", token_str);\n",
    "\t\tstdout.flush().unwrap();\n",
    "\t}\n",
    "\n",
    "\tprintln!();\n",
    "\n",
    "\tOk(())\n",
    "}"
   ]
  },
  {
   "cell_type": "code",
   "execution_count": 21,
   "id": "cd79bf5b-13a1-423f-8112-13abbcc6b0a4",
   "metadata": {},
   "outputs": [
    {
     "name": "stdout",
     "output_type": "stream",
     "text": [
      "The corsac fox (Vulpes corsac), also known simply as a corsac, is a medium-sized fox found in northern and central California. The species was discovered by John Cusick at University Park, and the corcelage has not been found anywhere in the United United Kingdom and is found throughout northern and northern Mexico.A new report says that while some of these countries, particularly the European Commission's \"free movement\" agreement on Europe's borders and the Schellayan Schemmet agreement are likely to have the greatest potential benefits, they will still\n"
     ]
    }
   ],
   "source": [
    "main();"
   ]
  },
  {
   "cell_type": "code",
   "execution_count": 63,
   "id": "c5891ff5-8ac9-4a67-b56e-3b9181e5cba1",
   "metadata": {},
   "outputs": [
    {
     "name": "stdout",
     "output_type": "stream",
     "text": [
      "My name isAdemideMy name isAdemideEVCXR_EXECUTION_COMPLETE\n"
     ]
    },
    {
     "ename": "Error",
     "evalue": "Subprocess terminated with signal 9. This is known to happen when evcxr is installed via a Homebrew shell under emulation. Try installing rustup and evcxr without using Homebrew and see if that helps.",
     "output_type": "error",
     "traceback": [
      "Subprocess terminated with signal 9. This is known to happen when evcxr is installed via a Homebrew shell under emulation. Try installing rustup and evcxr without using Homebrew and see if that helps."
     ]
    }
   ],
   "source": [
    "print!(\"My name is\");\n",
    "print!(\"Ademide\");\n",
    "stdout.flush().unwrap();"
   ]
  },
  {
   "cell_type": "code",
   "execution_count": null,
   "id": "0169e5ad-79c9-482a-a3b4-0379ce91020b",
   "metadata": {},
   "outputs": [],
   "source": []
  }
 ],
 "metadata": {
  "kernelspec": {
   "display_name": "Rust",
   "language": "rust",
   "name": "rust"
  },
  "language_info": {
   "codemirror_mode": "rust",
   "file_extension": ".rs",
   "mimetype": "text/rust",
   "name": "Rust",
   "pygment_lexer": "rust",
   "version": ""
  }
 },
 "nbformat": 4,
 "nbformat_minor": 5
}
